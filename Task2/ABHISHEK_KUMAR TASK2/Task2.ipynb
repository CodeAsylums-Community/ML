{
 "cells": [
  {
   "cell_type": "code",
   "execution_count": 1,
   "metadata": {},
   "outputs": [],
   "source": [
    "import pandas as pd\n",
    "import numpy as np\n",
    "from sklearn import datasets "
   ]
  },
  {
   "cell_type": "code",
   "execution_count": 2,
   "metadata": {},
   "outputs": [
    {
     "data": {
      "text/html": [
       "<div>\n",
       "<style scoped>\n",
       "    .dataframe tbody tr th:only-of-type {\n",
       "        vertical-align: middle;\n",
       "    }\n",
       "\n",
       "    .dataframe tbody tr th {\n",
       "        vertical-align: top;\n",
       "    }\n",
       "\n",
       "    .dataframe thead th {\n",
       "        text-align: right;\n",
       "    }\n",
       "</style>\n",
       "<table border=\"1\" class=\"dataframe\">\n",
       "  <thead>\n",
       "    <tr style=\"text-align: right;\">\n",
       "      <th></th>\n",
       "      <th>fixed acidity</th>\n",
       "      <th>volatile acidity</th>\n",
       "      <th>citric acid</th>\n",
       "      <th>residual sugar</th>\n",
       "      <th>chlorides</th>\n",
       "      <th>free sulfur dioxide</th>\n",
       "      <th>total sulfur dioxide</th>\n",
       "      <th>density</th>\n",
       "      <th>pH</th>\n",
       "      <th>sulphates</th>\n",
       "      <th>alcohol</th>\n",
       "      <th>quality</th>\n",
       "    </tr>\n",
       "  </thead>\n",
       "  <tbody>\n",
       "    <tr>\n",
       "      <th>0</th>\n",
       "      <td>7.4</td>\n",
       "      <td>0.70</td>\n",
       "      <td>0.00</td>\n",
       "      <td>1.9</td>\n",
       "      <td>0.076</td>\n",
       "      <td>11.0</td>\n",
       "      <td>34.0</td>\n",
       "      <td>0.9978</td>\n",
       "      <td>3.51</td>\n",
       "      <td>0.56</td>\n",
       "      <td>9.4</td>\n",
       "      <td>5</td>\n",
       "    </tr>\n",
       "    <tr>\n",
       "      <th>1</th>\n",
       "      <td>7.8</td>\n",
       "      <td>0.88</td>\n",
       "      <td>0.00</td>\n",
       "      <td>2.6</td>\n",
       "      <td>0.098</td>\n",
       "      <td>25.0</td>\n",
       "      <td>67.0</td>\n",
       "      <td>0.9968</td>\n",
       "      <td>3.20</td>\n",
       "      <td>0.68</td>\n",
       "      <td>9.8</td>\n",
       "      <td>5</td>\n",
       "    </tr>\n",
       "    <tr>\n",
       "      <th>2</th>\n",
       "      <td>7.8</td>\n",
       "      <td>0.76</td>\n",
       "      <td>0.04</td>\n",
       "      <td>2.3</td>\n",
       "      <td>0.092</td>\n",
       "      <td>15.0</td>\n",
       "      <td>54.0</td>\n",
       "      <td>0.9970</td>\n",
       "      <td>3.26</td>\n",
       "      <td>0.65</td>\n",
       "      <td>9.8</td>\n",
       "      <td>5</td>\n",
       "    </tr>\n",
       "    <tr>\n",
       "      <th>3</th>\n",
       "      <td>11.2</td>\n",
       "      <td>0.28</td>\n",
       "      <td>0.56</td>\n",
       "      <td>1.9</td>\n",
       "      <td>0.075</td>\n",
       "      <td>17.0</td>\n",
       "      <td>60.0</td>\n",
       "      <td>0.9980</td>\n",
       "      <td>3.16</td>\n",
       "      <td>0.58</td>\n",
       "      <td>9.8</td>\n",
       "      <td>6</td>\n",
       "    </tr>\n",
       "  </tbody>\n",
       "</table>\n",
       "</div>"
      ],
      "text/plain": [
       "   fixed acidity  volatile acidity  citric acid  residual sugar  chlorides  \\\n",
       "0            7.4              0.70         0.00             1.9      0.076   \n",
       "1            7.8              0.88         0.00             2.6      0.098   \n",
       "2            7.8              0.76         0.04             2.3      0.092   \n",
       "3           11.2              0.28         0.56             1.9      0.075   \n",
       "\n",
       "   free sulfur dioxide  total sulfur dioxide  density    pH  sulphates  \\\n",
       "0                 11.0                  34.0   0.9978  3.51       0.56   \n",
       "1                 25.0                  67.0   0.9968  3.20       0.68   \n",
       "2                 15.0                  54.0   0.9970  3.26       0.65   \n",
       "3                 17.0                  60.0   0.9980  3.16       0.58   \n",
       "\n",
       "   alcohol  quality  \n",
       "0      9.4        5  \n",
       "1      9.8        5  \n",
       "2      9.8        5  \n",
       "3      9.8        6  "
      ]
     },
     "execution_count": 2,
     "metadata": {},
     "output_type": "execute_result"
    }
   ],
   "source": [
    "wine=pd.read_csv(\"winequality-red.csv\")\n",
    "wine.head(4)"
   ]
  },
  {
   "cell_type": "code",
   "execution_count": 3,
   "metadata": {},
   "outputs": [
    {
     "name": "stdout",
     "output_type": "stream",
     "text": [
      "fixed acidity            8.319637\n",
      "volatile acidity         0.527821\n",
      "citric acid              0.270976\n",
      "residual sugar           2.538806\n",
      "chlorides                0.087467\n",
      "free sulfur dioxide     15.874922\n",
      "total sulfur dioxide    46.467792\n",
      "density                  0.996747\n",
      "pH                       3.311113\n",
      "sulphates                0.658149\n",
      "alcohol                 10.422983\n",
      "quality                  5.636023\n",
      "dtype: float64\n"
     ]
    }
   ],
   "source": [
    "mean_value=np.mean(wine)                        #mean\n",
    "print(mean_value)"
   ]
  },
  {
   "cell_type": "code",
   "execution_count": 4,
   "metadata": {},
   "outputs": [
    {
     "name": "stdout",
     "output_type": "stream",
     "text": [
      "fixed acidity            1.740552\n",
      "volatile acidity         0.179004\n",
      "citric acid              0.194740\n",
      "residual sugar           1.409487\n",
      "chlorides                0.047051\n",
      "free sulfur dioxide     10.456886\n",
      "total sulfur dioxide    32.885037\n",
      "density                  0.001887\n",
      "pH                       0.154338\n",
      "sulphates                0.169454\n",
      "alcohol                  1.065334\n",
      "quality                  0.807317\n",
      "dtype: float64\n"
     ]
    }
   ],
   "source": [
    "std_value=np.std(wine)                 #standard deviation\n",
    "print(std_value)"
   ]
  },
  {
   "cell_type": "code",
   "execution_count": 5,
   "metadata": {},
   "outputs": [
    {
     "name": "stdout",
     "output_type": "stream",
     "text": [
      "fixed acidity              3.029521\n",
      "volatile acidity           0.032042\n",
      "citric acid                0.037924\n",
      "residual sugar             1.986654\n",
      "chlorides                  0.002214\n",
      "free sulfur dioxide      109.346457\n",
      "total sulfur dioxide    1081.425636\n",
      "density                    0.000004\n",
      "pH                         0.023820\n",
      "sulphates                  0.028715\n",
      "alcohol                    1.134937\n",
      "quality                    0.651761\n",
      "dtype: float64\n"
     ]
    }
   ],
   "source": [
    "var_value=np.var(wine)                 #variance\n",
    "print(var_value)"
   ]
  },
  {
   "cell_type": "code",
   "execution_count": 6,
   "metadata": {},
   "outputs": [
    {
     "name": "stdout",
     "output_type": "stream",
     "text": [
      "[3 3 4 3 1 3 4 2 2 1 1 2 2 3 2 1 4 4 1 1]\n"
     ]
    }
   ],
   "source": [
    "print(np.random.randint(1,5,20))                     #generating 20 random values in range [1,5)"
   ]
  },
  {
   "cell_type": "code",
   "execution_count": 7,
   "metadata": {},
   "outputs": [
    {
     "name": "stdout",
     "output_type": "stream",
     "text": [
      "[[ 7.4    0.7    0.    ...  0.56   9.4    5.   ]\n",
      " [ 7.8    0.88   0.    ...  0.68   9.8    5.   ]\n",
      " [ 7.8    0.76   0.04  ...  0.65   9.8    5.   ]\n",
      " ...\n",
      " [ 6.3    0.51   0.13  ...  0.75  11.     6.   ]\n",
      " [ 5.9    0.645  0.12  ...  0.71  10.2    5.   ]\n",
      " [ 6.     0.31   0.47  ...  0.66  11.     6.   ]]\n"
     ]
    }
   ],
   "source": [
    "matrix=np.array(wine)                                #array wine data is copied into matrix numpy array\n",
    "print(matrix)"
   ]
  },
  {
   "cell_type": "code",
   "execution_count": 8,
   "metadata": {},
   "outputs": [
    {
     "name": "stdout",
     "output_type": "stream",
     "text": [
      "[[14.8   1.4   0.   ...  1.12 18.8  10.  ]\n",
      " [15.6   1.76  0.   ...  1.36 19.6  10.  ]\n",
      " [15.6   1.52  0.08 ...  1.3  19.6  10.  ]\n",
      " ...\n",
      " [12.6   1.02  0.26 ...  1.5  22.   12.  ]\n",
      " [11.8   1.29  0.24 ...  1.42 20.4  10.  ]\n",
      " [12.    0.62  0.94 ...  1.32 22.   12.  ]]\n",
      "[[0. 0. 0. ... 0. 0. 0.]\n",
      " [0. 0. 0. ... 0. 0. 0.]\n",
      " [0. 0. 0. ... 0. 0. 0.]\n",
      " ...\n",
      " [0. 0. 0. ... 0. 0. 0.]\n",
      " [0. 0. 0. ... 0. 0. 0.]\n",
      " [0. 0. 0. ... 0. 0. 0.]]\n",
      "[[5.47600e+01 4.90000e-01 0.00000e+00 ... 3.13600e-01 8.83600e+01\n",
      "  2.50000e+01]\n",
      " [6.08400e+01 7.74400e-01 0.00000e+00 ... 4.62400e-01 9.60400e+01\n",
      "  2.50000e+01]\n",
      " [6.08400e+01 5.77600e-01 1.60000e-03 ... 4.22500e-01 9.60400e+01\n",
      "  2.50000e+01]\n",
      " ...\n",
      " [3.96900e+01 2.60100e-01 1.69000e-02 ... 5.62500e-01 1.21000e+02\n",
      "  3.60000e+01]\n",
      " [3.48100e+01 4.16025e-01 1.44000e-02 ... 5.04100e-01 1.04040e+02\n",
      "  2.50000e+01]\n",
      " [3.60000e+01 9.61000e-02 2.20900e-01 ... 4.35600e-01 1.21000e+02\n",
      "  3.60000e+01]]\n"
     ]
    }
   ],
   "source": [
    "print(np.add(matrix,matrix))                 #addition of two matrix\n",
    "print(np.subtract(matrix,matrix))              #substraction of two matrix\n",
    "print(matrix*matrix)                         #multiplication of two matrix"
   ]
  },
  {
   "cell_type": "code",
   "execution_count": 9,
   "metadata": {},
   "outputs": [],
   "source": [
    "matrix=np.array([[1,0,0],[0,1,0],[0,0,1]])"
   ]
  },
  {
   "cell_type": "code",
   "execution_count": 10,
   "metadata": {},
   "outputs": [
    {
     "name": "stdout",
     "output_type": "stream",
     "text": [
      "[1. 1. 1.]\n",
      "[[1. 0. 0.]\n",
      " [0. 1. 0.]\n",
      " [0. 0. 1.]]\n"
     ]
    }
   ],
   "source": [
    "eigen_value ,eigen_vector=np.linalg.eig(matrix)        #finding eigen values and eigen vector\n",
    "print(eigen_value)\n",
    "print(eigen_vector)"
   ]
  },
  {
   "cell_type": "code",
   "execution_count": 11,
   "metadata": {},
   "outputs": [
    {
     "name": "stdout",
     "output_type": "stream",
     "text": [
      "[[1. 0. 0.]\n",
      " [0. 1. 0.]\n",
      " [0. 0. 1.]]\n"
     ]
    }
   ],
   "source": [
    "print(np.linalg.inv(matrix))                           #inverse of matrix"
   ]
  },
  {
   "cell_type": "code",
   "execution_count": 12,
   "metadata": {},
   "outputs": [
    {
     "name": "stdout",
     "output_type": "stream",
     "text": [
      "[[1 0 0 0 1 0 0 0 1]]\n"
     ]
    }
   ],
   "source": [
    "matrix=matrix.reshape(1,-1)               #conversion of 2d to 1d matrix\n",
    "print(matrix)"
   ]
  },
  {
   "cell_type": "code",
   "execution_count": 13,
   "metadata": {},
   "outputs": [
    {
     "name": "stdout",
     "output_type": "stream",
     "text": [
      "[2 0 5 1 3 4 2]\n"
     ]
    }
   ],
   "source": [
    "from sklearn import preprocessing\n",
    "coder= preprocessing.LabelEncoder()                 #it is used to encode string datatype into numbers\n",
    "ans=coder.fit_transform(['Ram','Mohan','shyam','Rahul','chitra','samurk','Ram'])\n",
    "print(ans)"
   ]
  },
  {
   "cell_type": "code",
   "execution_count": 14,
   "metadata": {},
   "outputs": [],
   "source": [
    "from sklearn.model_selection import train_test_split\n",
    "target=wine[\"quality\"].values\n",
    "features=wine.drop(['quality'],axis=1).values\n",
    "X_train,X_test,y_train,y_test=train_test_split(features,target,test_size=0.25,random_state=42)"
   ]
  },
  {
   "cell_type": "code",
   "execution_count": 15,
   "metadata": {},
   "outputs": [
    {
     "name": "stdout",
     "output_type": "stream",
     "text": [
      "[[11.7   0.49  0.49 ...  3.19  0.43  9.2 ]\n",
      " [ 8.8   0.6   0.29 ...  3.36  0.49  9.1 ]\n",
      " [ 7.1   0.59  0.   ...  3.42  0.55 11.5 ]\n",
      " ...\n",
      " [ 7.2   0.62  0.06 ...  3.51  0.54  9.5 ]\n",
      " [ 7.9   0.2   0.35 ...  3.32  0.8  11.9 ]\n",
      " [ 5.8   0.29  0.26 ...  3.39  0.54 13.5 ]]\n",
      "[[ 7.7   0.56  0.08 ...  3.24  0.66  9.6 ]\n",
      " [ 7.8   0.5   0.17 ...  3.39  0.48  9.5 ]\n",
      " [10.7   0.67  0.22 ...  3.28  0.98  9.9 ]\n",
      " ...\n",
      " [ 7.1   0.6   0.   ...  3.47  0.7   9.9 ]\n",
      " [ 7.8   0.62  0.05 ...  3.29  0.63  9.3 ]\n",
      " [10.6   0.36  0.57 ...  3.14  0.72 11.1 ]]\n",
      "[5 5 7 ... 5 7 6]\n",
      "[6 5 6 5 6 5 5 5 5 6 7 3 5 5 6 7 5 7 8 5 5 6 5 6 6 6 7 6 5 6 5 5 6 5 6 5 7\n",
      " 5 4 6 5 5 7 5 5 6 7 6 5 6 5 5 5 7 6 6 6 5 5 5 5 7 5 6 6 5 6 5 6 5 6 4 6 6\n",
      " 6 5 8 5 6 6 5 6 5 6 6 7 5 6 7 4 7 6 5 5 5 6 5 6 5 6 5 5 5 7 6 7 6 5 6 5 8\n",
      " 5 6 5 6 7 6 6 5 6 6 6 6 6 6 6 7 6 5 5 6 5 5 5 6 5 5 5 5 6 7 6 8 5 5 5 6 6\n",
      " 6 5 6 7 6 5 6 5 5 6 6 6 7 5 7 5 5 5 6 6 5 5 6 5 7 6 7 6 6 5 5 6 4 6 5 7 5\n",
      " 5 4 5 7 6 5 6 6 7 6 5 5 6 5 7 5 6 6 5 7 5 5 5 6 7 7 5 5 6 6 7 6 5 6 6 6 6\n",
      " 6 7 4 5 5 7 5 5 5 5 6 6 5 7 5 6 6 6 5 4 6 7 6 7 5 6 6 5 5 6 5 6 4 5 6 6 5\n",
      " 6 6 5 5 6 7 7 6 5 6 6 5 6 5 6 5 5 5 6 6 6 7 5 5 6 5 7 5 6 4 6 6 8 6 5 5 6\n",
      " 5 7 6 6 5 5 7 6 6 5 6 6 5 7 6 6 6 6 5 6 5 5 6 4 6 6 6 5 5 5 6 6 6 6 4 7 6\n",
      " 6 6 5 6 7 5 5 6 7 5 5 6 5 6 5 6 5 5 6 5 6 6 6 5 6 4 5 4 5 5 6 5 6 6 5 5 5\n",
      " 5 5 6 5 6 6 6 5 5 6 5 5 6 6 6 7 6 5 5 6 6 5 5 6 7 6 5 6 5 7]\n"
     ]
    }
   ],
   "source": [
    "print(X_train)\n",
    "print(X_test)\n",
    "print(y_train)\n",
    "print(y_test)"
   ]
  },
  {
   "cell_type": "code",
   "execution_count": 16,
   "metadata": {},
   "outputs": [
    {
     "data": {
      "text/plain": [
       "array([ 4.6,  7.1,  7.9,  9.2, 15.9])"
      ]
     },
     "execution_count": 16,
     "metadata": {},
     "output_type": "execute_result"
    }
   ],
   "source": [
    "from sklearn import preprocessing                                           #importing preprocessing library\n",
    "quantile_transformer = preprocessing.QuantileTransformer(random_state=45)         #Quantile transformer is used in mapping\n",
    "X_train_trans = quantile_transformer.fit_transform(X_train)\n",
    "X_test_trans = quantile_transformer.transform(X_test)\n",
    "np.percentile(X_train[:, 0], [0, 25, 50, 75, 100])"
   ]
  },
  {
   "cell_type": "code",
   "execution_count": 17,
   "metadata": {},
   "outputs": [
    {
     "name": "stdout",
     "output_type": "stream",
     "text": [
      "KNeighbors accuracy score :  0.4425\n"
     ]
    }
   ],
   "source": [
    "#KNeighboursClassifier\n",
    "from sklearn.neighbors import KNeighborsClassifier\n",
    "from sklearn.metrics import accuracy_score\n",
    "#create object of the classifier\n",
    "neigh = KNeighborsClassifier(n_neighbors=2)\n",
    "#Train the algorithm\n",
    "neigh.fit(X_train, y_train)\n",
    "# predict the response\n",
    "pred = neigh.predict(X_test)\n",
    "# evaluate accuracy\n",
    "print (\"KNeighbors accuracy score : \",accuracy_score(y_test, pred))"
   ]
  },
  {
   "cell_type": "code",
   "execution_count": 18,
   "metadata": {},
   "outputs": [
    {
     "name": "stdout",
     "output_type": "stream",
     "text": [
      "[0.54375    0.521875   0.60625    0.5875     0.59874608]\n"
     ]
    }
   ],
   "source": [
    "#svm and score of svm\n",
    "from sklearn import svm\n",
    "from sklearn.model_selection import cross_val_score\n",
    "clf = svm.SVC(kernel='linear', C=1)\n",
    "scores = cross_val_score(clf, features,target, cv=5)\n",
    "print(scores)\n"
   ]
  },
  {
   "cell_type": "code",
   "execution_count": 19,
   "metadata": {},
   "outputs": [
    {
     "name": "stdout",
     "output_type": "stream",
     "text": [
      "accurancy of linear model is:0.3722831200818101\n",
      "[6. 5. 6. 5. 6. 5. 5. 5. 5. 6. 7. 3. 5. 5. 6. 7. 5. 7. 8. 5. 5. 6. 5. 6.\n",
      " 6. 6. 7. 6. 5. 6. 5. 5. 6. 5. 6. 5. 7. 5. 4. 6. 5. 5. 7. 5. 5. 6. 7. 6.\n",
      " 5. 6. 5. 5. 5. 7. 6. 6. 6. 5. 5. 5. 5. 7. 5. 6. 6. 5. 6. 5. 6. 5. 6. 4.\n",
      " 6. 6. 6. 5. 8. 5. 6. 6. 5. 6. 5. 6. 6. 7. 5. 6. 7. 4. 7. 6. 5. 5. 5. 6.\n",
      " 5. 6. 5. 6. 5. 5. 5. 7. 6. 7. 6. 5. 6. 5. 8. 5. 6. 5. 6. 7. 6. 6. 5. 6.\n",
      " 6. 6. 6. 6. 6. 6. 7. 6. 5. 5. 6. 5. 5. 5. 6. 5. 5. 5. 5. 6. 7. 6. 8. 5.\n",
      " 5. 5. 6. 6. 6. 5. 6. 7. 6. 5. 6. 5. 5. 6. 6. 6. 7. 5. 7. 5. 5. 5. 6. 6.\n",
      " 5. 5. 6. 5. 7. 6. 7. 6. 6. 5. 5. 6. 4. 6. 5. 7. 5. 5. 4. 5. 7. 6. 5. 6.\n",
      " 6. 7. 6. 5. 5. 6. 5. 7. 5. 6. 6. 5. 7. 5. 5. 5. 6. 7. 7. 5. 5. 6. 6. 7.\n",
      " 6. 5. 6. 6. 6. 6. 6. 7. 4. 5. 5. 7. 5. 5. 5. 5. 6. 6. 5. 7. 5. 6. 6. 6.\n",
      " 5. 4. 6. 7. 6. 7. 5. 6. 6. 5. 5. 6. 5. 6. 4. 5. 6. 6. 5. 6. 6. 5. 5. 6.\n",
      " 7. 7. 6. 5. 6. 6. 5. 6. 5. 6. 5. 5. 5. 6. 6. 6. 7. 5. 5. 6. 5. 7. 5. 6.\n",
      " 4. 6. 6. 8. 6. 5. 5. 6. 5. 7. 6. 6. 5. 5. 7. 6. 6. 5. 6. 6. 5. 7. 6. 6.\n",
      " 6. 6. 5. 6. 5. 5. 6. 4. 6. 6. 6. 5. 5. 5. 6. 6. 6. 6. 4. 7. 6. 6. 6. 5.\n",
      " 6. 7. 5. 5. 6. 7. 5. 5. 6. 5. 6. 5. 6. 5. 5. 6. 5. 6. 6. 6. 5. 6. 4. 5.\n",
      " 4. 5. 5. 6. 5. 6. 6. 5. 5. 5. 5. 5. 6. 5. 6. 6. 6. 5. 5. 6. 5. 5. 6. 6.\n",
      " 6. 7. 6. 5. 5. 6. 6. 5. 5. 6. 7. 6. 5. 6. 5. 7.]\n"
     ]
    }
   ],
   "source": [
    "#Linear Regression\n",
    "from sklearn.linear_model import LinearRegression\n",
    "reg_all=LinearRegression()\n",
    "reg_all.fit(X_train,y_train)\n",
    "y_pred=reg_all.predict(X_test)\n",
    "accu=reg_all.score(X_test,y_test)\n",
    "y_test=y_test.astype(float);\n",
    "print('accurancy of linear model is:{}'.format(accu))\n",
    "print(y_test)"
   ]
  },
  {
   "cell_type": "code",
   "execution_count": 20,
   "metadata": {},
   "outputs": [
    {
     "data": {
      "text/plain": [
       "2.2560232469783514"
      ]
     },
     "execution_count": 20,
     "metadata": {},
     "output_type": "execute_result"
    }
   ],
   "source": [
    "#max_error\n",
    "from sklearn.metrics import max_error\n",
    "max_error(y_test, y_pred)"
   ]
  },
  {
   "cell_type": "code",
   "execution_count": 21,
   "metadata": {},
   "outputs": [
    {
     "data": {
      "text/plain": [
       "0.49987991229254364"
      ]
     },
     "execution_count": 21,
     "metadata": {},
     "output_type": "execute_result"
    }
   ],
   "source": [
    "#mean_absolute_error\n",
    "from sklearn.metrics import mean_absolute_error\n",
    "mean_absolute_error(y_test, y_pred)"
   ]
  },
  {
   "cell_type": "code",
   "execution_count": 22,
   "metadata": {},
   "outputs": [],
   "source": [
    "y_test=np.ceil(y_test)\n",
    "y_pred=np.ceil(y_pred)"
   ]
  },
  {
   "cell_type": "code",
   "execution_count": 23,
   "metadata": {},
   "outputs": [
    {
     "name": "stdout",
     "output_type": "stream",
     "text": [
      "[[  0   0   0   1   0   0]\n",
      " [  0   0   2  11   0   0]\n",
      " [  0   0  12 144   8   0]\n",
      " [  0   0   5 113  51   0]\n",
      " [  0   0   0  12  36   0]\n",
      " [  0   0   0   0   5   0]]\n"
     ]
    }
   ],
   "source": [
    " from sklearn.metrics import confusion_matrix     #confusion matrix for test and predict values\n",
    "print(confusion_matrix(y_test,y_pred))"
   ]
  },
  {
   "cell_type": "code",
   "execution_count": 24,
   "metadata": {},
   "outputs": [
    {
     "data": {
      "text/plain": [
       "array([[[399,   0],\n",
       "        [  1,   0]],\n",
       "\n",
       "       [[387,   0],\n",
       "        [ 13,   0]],\n",
       "\n",
       "       [[229,   7],\n",
       "        [152,  12]],\n",
       "\n",
       "       [[ 63, 168],\n",
       "        [ 56, 113]],\n",
       "\n",
       "       [[288,  64],\n",
       "        [ 12,  36]],\n",
       "\n",
       "       [[395,   0],\n",
       "        [  5,   0]]], dtype=int64)"
      ]
     },
     "execution_count": 24,
     "metadata": {},
     "output_type": "execute_result"
    }
   ],
   "source": [
    "#multilevel confusion matrix\n",
    "import numpy as np\n",
    "from sklearn.metrics import multilabel_confusion_matrix\n",
    "multilabel_confusion_matrix(y_test, y_pred)"
   ]
  },
  {
   "cell_type": "code",
   "execution_count": 25,
   "metadata": {},
   "outputs": [
    {
     "name": "stderr",
     "output_type": "stream",
     "text": [
      "c:\\python\\python38\\lib\\site-packages\\sklearn\\metrics\\_classification.py:1221: UndefinedMetricWarning: Precision is ill-defined and being set to 0.0 in labels with no predicted samples. Use `zero_division` parameter to control this behavior.\n",
      "  _warn_prf(average, modifier, msg_start, len(result))\n"
     ]
    },
    {
     "data": {
      "text/plain": [
       "0.23228569644752448"
      ]
     },
     "execution_count": 25,
     "metadata": {},
     "output_type": "execute_result"
    }
   ],
   "source": [
    "#matrix precision score\n",
    "from sklearn import metrics\n",
    "metrics.precision_score(y_test,y_pred,average=\"macro\")"
   ]
  },
  {
   "cell_type": "code",
   "execution_count": null,
   "metadata": {},
   "outputs": [],
   "source": []
  }
 ],
 "metadata": {
  "kernelspec": {
   "display_name": "Python 3",
   "language": "python",
   "name": "python3"
  },
  "language_info": {
   "codemirror_mode": {
    "name": "ipython",
    "version": 3
   },
   "file_extension": ".py",
   "mimetype": "text/x-python",
   "name": "python",
   "nbconvert_exporter": "python",
   "pygments_lexer": "ipython3",
   "version": "3.8.5"
  }
 },
 "nbformat": 4,
 "nbformat_minor": 4
}
