{
  "nbformat": 4,
  "nbformat_minor": 0,
  "metadata": {
    "colab": {
      "name": "Task-2.ipynb",
      "provenance": [],
      "collapsed_sections": []
    },
    "kernelspec": {
      "name": "python3",
      "display_name": "Python 3"
    }
  },
  "cells": [
    {
      "cell_type": "markdown",
      "metadata": {
        "id": "Z36GrZyMsAkj"
      },
      "source": [
        "## Importing Necessary libraries"
      ]
    },
    {
      "cell_type": "code",
      "metadata": {
        "id": "FY0_Mb-2UfUm"
      },
      "source": [
        "import numpy as np\n",
        "import pandas as pd\n",
        " \n",
        "from sklearn.model_selection import train_test_split\n",
        "from sklearn import preprocessing\n",
        "from sklearn.ensemble import RandomForestRegressor\n",
        "from sklearn.pipeline import make_pipeline\n",
        "from sklearn.model_selection import GridSearchCV\n",
        "from sklearn.metrics import mean_squared_error, r2_score"
      ],
      "execution_count": null,
      "outputs": []
    },
    {
      "cell_type": "markdown",
      "metadata": {
        "id": "SANha8zjr6Pl"
      },
      "source": [
        "## Making a Random Forest Regressor Model"
      ]
    },
    {
      "cell_type": "code",
      "metadata": {
        "id": "T0KG_X7xn28f",
        "outputId": "bc253e66-a96c-4615-a341-b45b771dfce9",
        "colab": {
          "base_uri": "https://localhost:8080/",
          "height": 52
        }
      },
      "source": [
        "dataset_url = 'https://archive.ics.uci.edu/ml/machine-learning-databases/wine-quality/winequality-white.csv'\n",
        "data = pd.read_csv(dataset_url,delimiter =';')\n",
        " \n",
        "#Split data into training and test sets\n",
        "y = data.quality\n",
        "X = data.drop('quality', axis=1)\n",
        "X_train, X_test, y_train, y_test = train_test_split(X, y, \n",
        "                                                    test_size=0.3, \n",
        "                                                    random_state=123, \n",
        "                                                    stratify=y)\n",
        " \n",
        "# Declaring data preprocessing steps\n",
        "pipeline = make_pipeline(preprocessing.StandardScaler(), \n",
        "                         RandomForestRegressor(n_estimators=100))\n",
        " \n",
        "#Declare hyperparameters to tune\n",
        "hyperparameters = { 'randomforestregressor__max_features' : ['auto', 'sqrt', 'log2'],\n",
        "                  'randomforestregressor__max_depth': [None, 5, 3, 1]}\n",
        " \n",
        "#Tune model using cross-validation pipeline\n",
        "clf = GridSearchCV(pipeline, hyperparameters, cv=20)\n",
        " \n",
        "clf.fit(X_train, y_train)\n",
        " \n",
        "#Evaluate model pipeline on test data\n",
        "pred = clf.predict(X_test)\n",
        "print(r2_score(y_test, pred))\n",
        "print(mean_squared_error(y_test, pred))"
      ],
      "execution_count": 56,
      "outputs": [
        {
          "output_type": "stream",
          "text": [
            "0.5572206324980478\n",
            "0.34637972789115645\n"
          ],
          "name": "stdout"
        }
      ]
    },
    {
      "cell_type": "markdown",
      "metadata": {
        "id": "VTrzi3-rgb_2"
      },
      "source": [
        "## Analysing the Data using Numpy"
      ]
    },
    {
      "cell_type": "code",
      "metadata": {
        "id": "b9SvLGNxWu5n"
      },
      "source": [
        "#reading the data from csv file using numpy\n",
        "wine = np.genfromtxt(dataset_url,delimiter=';',skip_header=1)"
      ],
      "execution_count": 42,
      "outputs": []
    },
    {
      "cell_type": "code",
      "metadata": {
        "id": "-ZrnsWacg2fQ"
      },
      "source": [
        "#printing the shape of wine\n",
        "wine.shape"
      ],
      "execution_count": null,
      "outputs": []
    },
    {
      "cell_type": "code",
      "metadata": {
        "id": "0pnHOml9g7H9"
      },
      "source": [
        "#displaying first 10 rows of the array\n",
        "wine[:10,:]"
      ],
      "execution_count": null,
      "outputs": []
    },
    {
      "cell_type": "code",
      "metadata": {
        "id": "TDXQCRqOhvX-"
      },
      "source": [
        "#saving the data in float datatype\n",
        "wine.astype(np.float)"
      ],
      "execution_count": null,
      "outputs": []
    },
    {
      "cell_type": "code",
      "metadata": {
        "id": "ixlEdy8ViVWh"
      },
      "source": [
        "#classifying the wine high in quality and alcohol content\n",
        "high_quality_and_alcohol = (wine[:,10] > 10) & (wine[:,11] > 7)\n",
        "wine[high_quality_and_alcohol,10:]"
      ],
      "execution_count": null,
      "outputs": []
    },
    {
      "cell_type": "code",
      "metadata": {
        "id": "ETOpAa73i5GW"
      },
      "source": [
        "#modifying the array to a 1D array\n",
        "wine.ravel()"
      ],
      "execution_count": null,
      "outputs": []
    },
    {
      "cell_type": "code",
      "metadata": {
        "id": "q0E03xbKj_iK"
      },
      "source": [
        "#reshaping the array to 2x6 array\n",
        "wine[1,:].reshape((2,6))"
      ],
      "execution_count": null,
      "outputs": []
    },
    {
      "cell_type": "code",
      "metadata": {
        "id": "DA5ht9T-kGKZ"
      },
      "source": [
        "#loading the redwine dataset\n",
        "dataset_red = 'https://archive.ics.uci.edu/ml/machine-learning-databases/wine-quality/winequality-red.csv'\n",
        "winered = np.genfromtxt(dataset_red,delimiter=';',skip_header=1)"
      ],
      "execution_count": 49,
      "outputs": []
    },
    {
      "cell_type": "code",
      "metadata": {
        "id": "5Y75IyS1kdiw"
      },
      "source": [
        "#displaying the shape of winered\n",
        "winered.shape"
      ],
      "execution_count": null,
      "outputs": []
    },
    {
      "cell_type": "code",
      "metadata": {
        "id": "RKDRJF3-lsuI"
      },
      "source": [
        "# combining the red and white wine vertically\n",
        "all_wines = np.vstack((wine,winered))"
      ],
      "execution_count": 52,
      "outputs": []
    },
    {
      "cell_type": "code",
      "metadata": {
        "id": "X74lh3IwlzoG"
      },
      "source": [
        "#combining both red and white wine using concate function\n",
        "np.concatenate((wine,winered),axis=0)"
      ],
      "execution_count": null,
      "outputs": []
    }
  ]
}