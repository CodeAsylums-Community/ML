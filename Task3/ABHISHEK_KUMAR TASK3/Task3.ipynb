{
 "cells": [
  {
   "cell_type": "code",
   "execution_count": 6,
   "metadata": {},
   "outputs": [],
   "source": [
    "#importing libraries cv2,numpy\n",
    "import cv2                              \n",
    "import numpy as np"
   ]
  },
  {
   "cell_type": "code",
   "execution_count": 7,
   "metadata": {},
   "outputs": [],
   "source": [
    "catch = cv2.CascadeClassifier('haarcascade_frontalface_default.xml')"
   ]
  },
  {
   "cell_type": "code",
   "execution_count": 8,
   "metadata": {},
   "outputs": [],
   "source": [
    "video=cv2.VideoCapture(0)  # 0 (argument of VideoCapture) is the camera number if we are using webcam\n",
    "#incase of video file we use video=cv2.VideoCapture(\"name_file.mp4\")"
   ]
  },
  {
   "cell_type": "code",
   "execution_count": 9,
   "metadata": {},
   "outputs": [],
   "source": [
    "while(video.isOpened()):\n",
    "    ret,frame=video.read()                           #reading of video\n",
    "    faces = catch.detectMultiScale(frame, 1.1, 4) \n",
    "    for (x, y, l, h) in faces:\n",
    "        cv2.rectangle(frame, (x, y), (x+l, y+h), (255, 0, 0), 2)        #framing of face in rectangle\n",
    "    cv2.imshow('frame', frame)                     #imshow used for showing the image\n",
    "    k = cv2.waitKey(30) & 0xff                    #click escape key for closing face detection\n",
    "    if k==27:\n",
    "        break"
   ]
  },
  {
   "cell_type": "code",
   "execution_count": 10,
   "metadata": {},
   "outputs": [],
   "source": [
    "video.release()                                   #releasing the video from memory\n",
    "cv2.destroyAllWindows()                           #close all windows that are opened through upper instruction."
   ]
  },
  {
   "cell_type": "code",
   "execution_count": null,
   "metadata": {},
   "outputs": [],
   "source": []
  }
 ],
 "metadata": {
  "kernelspec": {
   "display_name": "Python 3",
   "language": "python",
   "name": "python3"
  },
  "language_info": {
   "codemirror_mode": {
    "name": "ipython",
    "version": 3
   },
   "file_extension": ".py",
   "mimetype": "text/x-python",
   "name": "python",
   "nbconvert_exporter": "python",
   "pygments_lexer": "ipython3",
   "version": "3.8.5"
  }
 },
 "nbformat": 4,
 "nbformat_minor": 4
}
